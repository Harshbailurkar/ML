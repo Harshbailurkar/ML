{
 "cells": [
  {
   "cell_type": "code",
   "execution_count": 2,
   "id": "8bc060c0",
   "metadata": {},
   "outputs": [],
   "source": [
    "import numpy as np\n",
    "import pandas as pd\n",
    "import matplotlib.pyplot as plt\n",
    "import seaborn as sns"
   ]
  },
  {
   "cell_type": "code",
   "execution_count": 3,
   "id": "f1a6a707",
   "metadata": {},
   "outputs": [],
   "source": [
    "df=pd.read_csv(\"iris.csv\")"
   ]
  },
  {
   "cell_type": "code",
   "execution_count": 4,
   "id": "841e2760",
   "metadata": {},
   "outputs": [
    {
     "data": {
      "text/plain": [
       "<bound method DataFrame.info of      sepal.length  sepal.width  petal.length  petal.width    variety\n",
       "0             5.1          3.5           1.4          0.2     Setosa\n",
       "1             4.9          3.0           1.4          0.2     Setosa\n",
       "2             4.7          3.2           1.3          0.2     Setosa\n",
       "3             4.6          3.1           1.5          0.2     Setosa\n",
       "4             5.0          3.6           1.4          0.2     Setosa\n",
       "..            ...          ...           ...          ...        ...\n",
       "145           6.7          3.0           5.2          2.3  Virginica\n",
       "146           6.3          2.5           5.0          1.9  Virginica\n",
       "147           6.5          3.0           5.2          2.0  Virginica\n",
       "148           6.2          3.4           5.4          2.3  Virginica\n",
       "149           5.9          3.0           5.1          1.8  Virginica\n",
       "\n",
       "[150 rows x 5 columns]>"
      ]
     },
     "execution_count": 4,
     "metadata": {},
     "output_type": "execute_result"
    }
   ],
   "source": [
    "df.info"
   ]
  },
  {
   "cell_type": "code",
   "execution_count": 11,
   "id": "cb0c86ae",
   "metadata": {},
   "outputs": [],
   "source": [
    "L=['sepal.length','sepal.width','petal.length','petal.width']\n",
    "x=df[L]\n",
    "y=df['variety']    "
   ]
  },
  {
   "cell_type": "code",
   "execution_count": 12,
   "id": "5295081e",
   "metadata": {},
   "outputs": [],
   "source": [
    "from sklearn.model_selection import train_test_split\n",
    "x_train,x_test,y_train,y_test=train_test_split(x,y,test_size=0.2,random_state=20)"
   ]
  },
  {
   "cell_type": "code",
   "execution_count": 13,
   "id": "aa126511",
   "metadata": {},
   "outputs": [],
   "source": [
    "from sklearn.tree import DecisionTreeClassifier"
   ]
  },
  {
   "cell_type": "code",
   "execution_count": 18,
   "id": "c114fd34",
   "metadata": {},
   "outputs": [],
   "source": [
    "dt=DecisionTreeClassifier(criterion='entropy')\n",
    "dt.fit(x_train,y_train)\n",
    "pre=dt.predict(x_test)"
   ]
  },
  {
   "cell_type": "code",
   "execution_count": 19,
   "id": "a273faf3",
   "metadata": {},
   "outputs": [
    {
     "name": "stdout",
     "output_type": "stream",
     "text": [
      "['Setosa' 'Versicolor' 'Versicolor' 'Virginica' 'Versicolor' 'Versicolor'\n",
      " 'Virginica' 'Setosa' 'Virginica' 'Setosa' 'Virginica' 'Versicolor'\n",
      " 'Versicolor' 'Setosa' 'Setosa' 'Virginica' 'Setosa' 'Versicolor'\n",
      " 'Virginica' 'Versicolor' 'Versicolor' 'Virginica' 'Virginica' 'Setosa'\n",
      " 'Versicolor' 'Versicolor' 'Versicolor' 'Setosa' 'Virginica' 'Versicolor']\n"
     ]
    }
   ],
   "source": [
    "print(pre)"
   ]
  },
  {
   "cell_type": "code",
   "execution_count": 26,
   "id": "6d1d7983",
   "metadata": {},
   "outputs": [],
   "source": [
    "from sklearn.metrics import classification_report,confusion_matrix,accuracy_score"
   ]
  },
  {
   "cell_type": "code",
   "execution_count": 27,
   "id": "f9df4e2b",
   "metadata": {},
   "outputs": [
    {
     "name": "stdout",
     "output_type": "stream",
     "text": [
      "0.9333333333333333\n"
     ]
    }
   ],
   "source": [
    "print(accuracy_score(y_test,pre))"
   ]
  },
  {
   "cell_type": "code",
   "execution_count": 28,
   "id": "d5edc821",
   "metadata": {},
   "outputs": [
    {
     "name": "stdout",
     "output_type": "stream",
     "text": [
      "[[ 8  0  0]\n",
      " [ 0 11  0]\n",
      " [ 0  2  9]]\n"
     ]
    }
   ],
   "source": [
    "print(confusion_matrix(y_test,pre))"
   ]
  },
  {
   "cell_type": "code",
   "execution_count": 30,
   "id": "dccb3b66",
   "metadata": {},
   "outputs": [
    {
     "name": "stdout",
     "output_type": "stream",
     "text": [
      "              precision    recall  f1-score   support\n",
      "\n",
      "      Setosa       1.00      1.00      1.00         8\n",
      "  Versicolor       0.85      1.00      0.92        11\n",
      "   Virginica       1.00      0.82      0.90        11\n",
      "\n",
      "    accuracy                           0.93        30\n",
      "   macro avg       0.95      0.94      0.94        30\n",
      "weighted avg       0.94      0.93      0.93        30\n",
      "\n"
     ]
    }
   ],
   "source": [
    "print(classification_report(y_test,pre))"
   ]
  },
  {
   "cell_type": "code",
   "execution_count": 32,
   "id": "6c6e2891",
   "metadata": {
    "scrolled": true
   },
   "outputs": [
    {
     "data": {
      "text/plain": [
       "[Text(0.3333333333333333, 0.9285714285714286, 'X[2] <= 2.6\\nentropy = 1.584\\nsamples = 120\\nvalue = [42, 39, 39]'),\n",
       " Text(0.2222222222222222, 0.7857142857142857, 'entropy = 0.0\\nsamples = 42\\nvalue = [42, 0, 0]'),\n",
       " Text(0.4444444444444444, 0.7857142857142857, 'X[3] <= 1.65\\nentropy = 1.0\\nsamples = 78\\nvalue = [0, 39, 39]'),\n",
       " Text(0.2222222222222222, 0.6428571428571429, 'X[2] <= 5.35\\nentropy = 0.176\\nsamples = 38\\nvalue = [0, 37, 1]'),\n",
       " Text(0.1111111111111111, 0.5, 'entropy = 0.0\\nsamples = 37\\nvalue = [0, 37, 0]'),\n",
       " Text(0.3333333333333333, 0.5, 'entropy = 0.0\\nsamples = 1\\nvalue = [0, 0, 1]'),\n",
       " Text(0.6666666666666666, 0.6428571428571429, 'X[2] <= 5.05\\nentropy = 0.286\\nsamples = 40\\nvalue = [0, 2, 38]'),\n",
       " Text(0.5555555555555556, 0.5, 'X[1] <= 2.9\\nentropy = 0.722\\nsamples = 10\\nvalue = [0, 2, 8]'),\n",
       " Text(0.4444444444444444, 0.35714285714285715, 'entropy = 0.0\\nsamples = 6\\nvalue = [0, 0, 6]'),\n",
       " Text(0.6666666666666666, 0.35714285714285715, 'X[0] <= 5.95\\nentropy = 1.0\\nsamples = 4\\nvalue = [0, 2, 2]'),\n",
       " Text(0.5555555555555556, 0.21428571428571427, 'entropy = 0.0\\nsamples = 1\\nvalue = [0, 1, 0]'),\n",
       " Text(0.7777777777777778, 0.21428571428571427, 'X[2] <= 4.95\\nentropy = 0.918\\nsamples = 3\\nvalue = [0, 1, 2]'),\n",
       " Text(0.6666666666666666, 0.07142857142857142, 'entropy = 0.0\\nsamples = 2\\nvalue = [0, 0, 2]'),\n",
       " Text(0.8888888888888888, 0.07142857142857142, 'entropy = 0.0\\nsamples = 1\\nvalue = [0, 1, 0]'),\n",
       " Text(0.7777777777777778, 0.5, 'entropy = 0.0\\nsamples = 30\\nvalue = [0, 0, 30]')]"
      ]
     },
     "execution_count": 32,
     "metadata": {},
     "output_type": "execute_result"
    },
    {
     "data": {
      "image/png": "[encoded data removed]",
      "text/plain": [
       "<Figure size 432x288 with 1 Axes>"
      ]
     },
     "metadata": {
      "needs_background": "light"
     },
     "output_type": "display_data"
    }
   ],
   "source": [
    "from sklearn import tree\n",
    "tree.plot_tree(dt,filled=True)"
   ]
  }
 ],
 "metadata": {
  "kernelspec": {
   "display_name": "Python 3 (ipykernel)",
   "language": "python",
   "name": "python3"
  },
  "language_info": {
   "codemirror_mode": {
    "name": "ipython",
    "version": 3
   },
   "file_extension": ".py",
   "mimetype": "text/x-python",
   "name": "python",
   "nbconvert_exporter": "python",
   "pygments_lexer": "ipython3",
   "version": "3.9.12"
  }
 },
 "nbformat": 4,
 "nbformat_minor": 5
}
