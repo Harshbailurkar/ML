{
 "cells": [
  {
   "cell_type": "code",
   "execution_count": 54,
   "id": "9568e739",
   "metadata": {},
   "outputs": [],
   "source": [
    "import numpy as np\n",
    "import pandas as pd\n",
    "import matplotlib.pyplot as plt\n",
    "import seaborn as sns"
   ]
  },
  {
   "cell_type": "code",
   "execution_count": 55,
   "id": "2db7ce4f",
   "metadata": {},
   "outputs": [],
   "source": [
    "df=pd.read_csv(\"iris.csv\")"
   ]
  },
  {
   "cell_type": "code",
   "execution_count": 56,
   "id": "756888a2",
   "metadata": {},
   "outputs": [],
   "source": [
    "L=['sepal.length','sepal.width','petal.length','petal.width']\n",
    "x=df[L]\n",
    "y=df['variety']    "
   ]
  },
  {
   "cell_type": "code",
   "execution_count": 57,
   "id": "9027c045",
   "metadata": {},
   "outputs": [],
   "source": [
    "from sklearn.model_selection import train_test_split\n",
    "x_train,x_test,y_train,y_test=train_test_split(x,y,test_size=0.2,random_state=20)"
   ]
  },
  {
   "cell_type": "code",
   "execution_count": 58,
   "id": "a2a0e074",
   "metadata": {},
   "outputs": [],
   "source": [
    "from sklearn.decomposition import PCA "
   ]
  },
  {
   "cell_type": "code",
   "execution_count": 59,
   "id": "429c25ac",
   "metadata": {},
   "outputs": [],
   "source": [
    "p=PCA(n_components=1) #create our own model & 1 means converting into 1D matrix"
   ]
  },
  {
   "cell_type": "code",
   "execution_count": 60,
   "id": "dbd3f5fd",
   "metadata": {},
   "outputs": [],
   "source": [
    "A=p.fit_transform(x_train) #it convert n column into 1D "
   ]
  },
  {
   "cell_type": "code",
   "execution_count": 61,
   "id": "db750186",
   "metadata": {},
   "outputs": [],
   "source": [
    "B=p.transform(x_test) #fit_transform & transform are same"
   ]
  },
  {
   "cell_type": "code",
   "execution_count": 62,
   "id": "ea0b58d3",
   "metadata": {},
   "outputs": [
    {
     "name": "stdout",
     "output_type": "stream",
     "text": [
      "     sepal.length  sepal.width  petal.length  petal.width\n",
      "95            5.7          3.0           4.2          1.2\n",
      "88            5.6          3.0           4.1          1.3\n",
      "0             5.1          3.5           1.4          0.2\n",
      "46            5.1          3.8           1.6          0.2\n",
      "11            4.8          3.4           1.6          0.2\n",
      "..            ...          ...           ...          ...\n",
      "22            4.6          3.6           1.0          0.2\n",
      "75            6.6          3.0           4.4          1.4\n",
      "137           6.4          3.1           5.5          1.8\n",
      "15            5.7          4.4           1.5          0.4\n",
      "99            5.7          2.8           4.1          1.3\n",
      "\n",
      "[120 rows x 4 columns]\n"
     ]
    }
   ],
   "source": [
    "print(x_train)"
   ]
  },
  {
   "cell_type": "code",
   "execution_count": 63,
   "id": "aa7741dd",
   "metadata": {},
   "outputs": [
    {
     "name": "stdout",
     "output_type": "stream",
     "text": [
      "[[ 0.38032191]\n",
      " [ 0.2955278 ]\n",
      " [-2.63821091]\n",
      " [-2.49273773]\n",
      " [-2.56506492]\n",
      " [ 0.57772808]\n",
      " [ 0.85524535]\n",
      " [-2.66636036]\n",
      " [ 0.97833394]\n",
      " [ 2.88439493]\n",
      " [ 0.69085794]\n",
      " [ 1.82880455]\n",
      " [-2.75438618]\n",
      " [ 0.97160691]\n",
      " [ 1.14185262]\n",
      " [-2.84035373]\n",
      " [-2.23612877]\n",
      " [-2.65658607]\n",
      " [ 1.39979448]\n",
      " [-2.16298278]\n",
      " [ 2.20969865]\n",
      " [ 1.9520846 ]\n",
      " [-2.36440023]\n",
      " [ 2.58293095]\n",
      " [ 0.31174238]\n",
      " [-0.12406076]\n",
      " [ 0.71092063]\n",
      " [-2.79767908]\n",
      " [-2.54397217]\n",
      " [-0.01819886]\n",
      " [ 0.68886571]\n",
      " [ 0.27902647]\n",
      " [ 0.09441504]\n",
      " [ 1.26494121]\n",
      " [ 1.13395216]\n",
      " [ 0.42534342]\n",
      " [-2.25483359]\n",
      " [ 0.9931888 ]\n",
      " [ 0.86168564]\n",
      " [-2.62574399]\n",
      " [-2.92988264]\n",
      " [ 0.63976687]\n",
      " [ 0.23451907]\n",
      " [ 0.93802226]\n",
      " [-2.54195496]\n",
      " [-2.49862099]\n",
      " [ 1.9548022 ]\n",
      " [-2.58154128]\n",
      " [-2.53926233]\n",
      " [-0.45501411]\n",
      " [ 1.21940375]\n",
      " [ 1.46738687]\n",
      " [ 1.25277713]\n",
      " [ 2.01983832]\n",
      " [ 2.17327801]\n",
      " [ 2.66202809]\n",
      " [ 0.18478773]\n",
      " [ 1.99675333]\n",
      " [ 3.11960644]\n",
      " [ 2.96295816]\n",
      " [-2.8356439 ]\n",
      " [ 2.21274592]\n",
      " [-2.51699615]\n",
      " [-2.68238865]\n",
      " [-2.60345283]\n",
      " [ 1.99309668]\n",
      " [ 1.50737074]\n",
      " [ 1.16662514]\n",
      " [ 2.15408405]\n",
      " [ 1.43757486]\n",
      " [ 0.40696827]\n",
      " [-2.94708437]\n",
      " [ 1.34061851]\n",
      " [-2.55610943]\n",
      " [-0.65209246]\n",
      " [ 3.52820619]\n",
      " [-2.30815127]\n",
      " [ 0.86182901]\n",
      " [ 1.03226101]\n",
      " [ 1.30775923]\n",
      " [-2.66551659]\n",
      " [-2.58344008]\n",
      " [ 2.65677919]\n",
      " [ 2.46832481]\n",
      " [ 0.04416774]\n",
      " [ 0.51484737]\n",
      " [-0.25758112]\n",
      " [ 2.32264222]\n",
      " [ 2.36346801]\n",
      " [-2.35682943]\n",
      " [ 2.47523814]\n",
      " [-2.60179026]\n",
      " [ 1.60329702]\n",
      " [-2.69605398]\n",
      " [-2.15721792]\n",
      " [ 1.57683511]\n",
      " [ 2.1953579 ]\n",
      " [ 2.9750723 ]\n",
      " [-2.46304411]\n",
      " [-2.60502197]\n",
      " [ 1.70984137]\n",
      " [ 1.42927869]\n",
      " [ 0.56073762]\n",
      " [ 3.26960501]\n",
      " [-2.45950771]\n",
      " [ 1.9700117 ]\n",
      " [-2.7710738 ]\n",
      " [-2.57954904]\n",
      " [ 1.46738687]\n",
      " [ 3.43937768]\n",
      " [-2.57868031]\n",
      " [-2.42106986]\n",
      " [-2.72300503]\n",
      " [ 3.83911295]\n",
      " [ 0.40497604]\n",
      " [-3.16724771]\n",
      " [ 0.94463089]\n",
      " [ 1.95257559]\n",
      " [-2.34367821]\n",
      " [ 0.3483064 ]]\n"
     ]
    }
   ],
   "source": [
    "print(A)"
   ]
  },
  {
   "cell_type": "code",
   "execution_count": 64,
   "id": "d48b061c",
   "metadata": {},
   "outputs": [
    {
     "name": "stdout",
     "output_type": "stream",
     "text": [
      "     sepal.length  sepal.width  petal.length  petal.width\n",
      "47            4.6          3.2           1.4          0.2\n",
      "73            6.1          2.8           4.7          1.2\n",
      "74            6.4          2.9           4.3          1.3\n",
      "129           7.2          3.0           5.8          1.6\n",
      "67            5.8          2.7           4.1          1.0\n",
      "89            5.5          2.5           4.0          1.3\n",
      "143           6.8          3.2           5.9          2.3\n",
      "21            5.1          3.7           1.5          0.4\n",
      "108           6.7          2.5           5.8          1.8\n",
      "12            4.8          3.0           1.4          0.1\n",
      "147           6.5          3.0           5.2          2.0\n",
      "76            6.8          2.8           4.8          1.4\n",
      "119           6.0          2.2           5.0          1.5\n",
      "35            5.0          3.2           1.2          0.2\n",
      "28            5.2          3.4           1.4          0.2\n",
      "122           7.7          2.8           6.7          2.0\n",
      "13            4.3          3.0           1.1          0.1\n",
      "58            6.6          2.9           4.6          1.3\n",
      "114           5.8          2.8           5.1          2.4\n",
      "57            4.9          2.4           3.3          1.0\n",
      "50            7.0          3.2           4.7          1.4\n",
      "149           5.9          3.0           5.1          1.8\n",
      "111           6.4          2.7           5.3          1.9\n",
      "20            5.4          3.4           1.7          0.2\n",
      "72            6.3          2.5           4.9          1.5\n",
      "81            5.5          2.4           3.7          1.0\n",
      "98            5.1          2.5           3.0          1.1\n",
      "34            4.9          3.1           1.5          0.2\n",
      "104           6.5          3.0           5.8          2.2\n",
      "133           6.3          2.8           5.1          1.5\n"
     ]
    }
   ],
   "source": [
    "print(x_test)"
   ]
  },
  {
   "cell_type": "code",
   "execution_count": 65,
   "id": "4ae8040c",
   "metadata": {},
   "outputs": [
    {
     "name": "stdout",
     "output_type": "stream",
     "text": [
      "[[-2.79029272]\n",
      " [ 0.96802057]\n",
      " [ 0.76001946]\n",
      " [ 2.42986384]\n",
      " [ 0.2832222 ]\n",
      " [ 0.21731734]\n",
      " [ 2.61093703]\n",
      " [-2.49693345]\n",
      " [ 2.36782505]\n",
      " [-2.73835789]\n",
      " [ 1.81268098]\n",
      " [ 1.37553791]\n",
      " [ 1.35022446]\n",
      " [-2.81926097]\n",
      " [-2.59403317]\n",
      " [ 3.54137352]\n",
      " [-3.17315594]\n",
      " [ 1.08808688]\n",
      " [ 1.64088925]\n",
      " [-0.69627021]\n",
      " [ 1.32665034]\n",
      " [ 1.44074052]\n",
      " [ 1.85212392]\n",
      " [-2.26596576]\n",
      " [ 1.34551463]\n",
      " [-0.14025739]\n",
      " [-0.85421031]\n",
      " [-2.58932334]\n",
      " [ 2.39934958]\n",
      " [ 1.49098782]]\n"
     ]
    }
   ],
   "source": [
    "print(B)"
   ]
  },
  {
   "cell_type": "code",
   "execution_count": 66,
   "id": "59071358",
   "metadata": {},
   "outputs": [],
   "source": [
    "from sklearn.neighbors import KNeighborsClassifier"
   ]
  },
  {
   "cell_type": "code",
   "execution_count": 75,
   "id": "2ed82376",
   "metadata": {},
   "outputs": [],
   "source": [
    "KNN=KNeighaborsClassifier(n_neighbors=20)"
   ]
  },
  {
   "cell_type": "code",
   "execution_count": 76,
   "id": "781e3a51",
   "metadata": {},
   "outputs": [
    {
     "data": {
      "text/plain": [
       "KNeighborsClassifier(n_neighbors=20)"
      ]
     },
     "execution_count": 76,
     "metadata": {},
     "output_type": "execute_result"
    }
   ],
   "source": [
    "KNN.fit(A,y_train)"
   ]
  },
  {
   "cell_type": "code",
   "execution_count": 77,
   "id": "1b9b771d",
   "metadata": {},
   "outputs": [],
   "source": [
    "pre=KNN.predict(B)"
   ]
  },
  {
   "cell_type": "code",
   "execution_count": 78,
   "id": "d035a6f7",
   "metadata": {},
   "outputs": [
    {
     "name": "stdout",
     "output_type": "stream",
     "text": [
      "['Setosa' 'Versicolor' 'Versicolor' 'Virginica' 'Versicolor' 'Versicolor'\n",
      " 'Virginica' 'Setosa' 'Virginica' 'Setosa' 'Virginica' 'Versicolor'\n",
      " 'Versicolor' 'Setosa' 'Setosa' 'Virginica' 'Setosa' 'Versicolor'\n",
      " 'Virginica' 'Versicolor' 'Versicolor' 'Virginica' 'Virginica' 'Setosa'\n",
      " 'Versicolor' 'Versicolor' 'Versicolor' 'Setosa' 'Virginica' 'Virginica']\n"
     ]
    }
   ],
   "source": [
    "print(pre)"
   ]
  },
  {
   "cell_type": "code",
   "execution_count": 79,
   "id": "406cbb9a",
   "metadata": {},
   "outputs": [],
   "source": [
    "from sklearn.metrics import classification_report,confusion_matrix,accuracy_score"
   ]
  },
  {
   "cell_type": "code",
   "execution_count": 80,
   "id": "f43d6242",
   "metadata": {},
   "outputs": [
    {
     "name": "stdout",
     "output_type": "stream",
     "text": [
      "              precision    recall  f1-score   support\n",
      "\n",
      "      Setosa       1.00      1.00      1.00         8\n",
      "  Versicolor       0.92      1.00      0.96        11\n",
      "   Virginica       1.00      0.91      0.95        11\n",
      "\n",
      "    accuracy                           0.97        30\n",
      "   macro avg       0.97      0.97      0.97        30\n",
      "weighted avg       0.97      0.97      0.97        30\n",
      "\n"
     ]
    }
   ],
   "source": [
    "print(classification_report(y_test,pre))"
   ]
  },
  {
   "cell_type": "code",
   "execution_count": 81,
   "id": "92b791ef",
   "metadata": {},
   "outputs": [
    {
     "name": "stdout",
     "output_type": "stream",
     "text": [
      "0.9666666666666667\n"
     ]
    }
   ],
   "source": [
    "print(accuracy_score(y_test,pre))"
   ]
  },
  {
   "cell_type": "code",
   "execution_count": 82,
   "id": "2de791d6",
   "metadata": {},
   "outputs": [
    {
     "name": "stdout",
     "output_type": "stream",
     "text": [
      "[[ 8  0  0]\n",
      " [ 0 11  0]\n",
      " [ 0  1 10]]\n"
     ]
    }
   ],
   "source": [
    "print(confusion_matrix(y_test,pre))"
   ]
  },
  {
   "cell_type": "code",
   "execution_count": null,
   "id": "b07e5522",
   "metadata": {},
   "outputs": [],
   "source": []
  }
 ],
 "metadata": {
  "kernelspec": {
   "display_name": "Python 3 (ipykernel)",
   "language": "python",
   "name": "python3"
  },
  "language_info": {
   "codemirror_mode": {
    "name": "ipython",
    "version": 3
   },
   "file_extension": ".py",
   "mimetype": "text/x-python",
   "name": "python",
   "nbconvert_exporter": "python",
   "pygments_lexer": "ipython3",
   "version": "3.11.4"
  }
 },
 "nbformat": 4,
 "nbformat_minor": 5
}
